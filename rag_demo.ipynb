{
 "cells": [
  {
   "cell_type": "code",
   "execution_count": 4,
   "metadata": {},
   "outputs": [
    {
     "name": "stdout",
     "output_type": "stream",
     "text": [
      "The fee for each food vending machine operated is $227.\n"
     ]
    }
   ],
   "source": [
    "from dotenv import load_dotenv\n",
    "from llama_index.core import VectorStoreIndex, SimpleDirectoryReader\n",
    "\n",
    "load_dotenv()\n",
    "\n",
    "documents = SimpleDirectoryReader(\n",
    "    input_files=[\"./.data/San Francisco Business and Tax codes.pdf\"]).load_data()\n",
    "\n",
    "index = VectorStoreIndex.from_documents(documents)\n",
    "query_engine = index.as_query_engine()\n",
    "response = query_engine.query(\"What are the costs associated with vending machines?\")\n",
    "print(response)"
   ]
  },
  {
   "cell_type": "code",
   "execution_count": 6,
   "metadata": {},
   "outputs": [
    {
     "name": "stdout",
     "output_type": "stream",
     "text": [
      "The fee for registering a private vehicle is $10 as per the Vehicle Registration Fee Ordinance.\n"
     ]
    }
   ],
   "source": [
    "response = query_engine.query(\"What is the fee for registering a private vehicle?\")\n",
    "print(response)"
   ]
  },
  {
   "cell_type": "code",
   "execution_count": 7,
   "metadata": {},
   "outputs": [
    {
     "name": "stdout",
     "output_type": "stream",
     "text": [
      "The fee for registering a commercial vehicle in San Francisco depends on the gross receipts for the immediately preceding tax year. The fee ranges from $90 for gross receipts between $0 to $100,000 to $35,000 for gross receipts of $200,000,001 and over.\n"
     ]
    }
   ],
   "source": [
    "response = query_engine.query(\"What is the fee for registering a commercial vehicle?\")\n",
    "print(response)"
   ]
  }
 ],
 "metadata": {
  "kernelspec": {
   "display_name": ".venv",
   "language": "python",
   "name": "python3"
  },
  "language_info": {
   "codemirror_mode": {
    "name": "ipython",
    "version": 3
   },
   "file_extension": ".py",
   "mimetype": "text/x-python",
   "name": "python",
   "nbconvert_exporter": "python",
   "pygments_lexer": "ipython3",
   "version": "3.11.3"
  }
 },
 "nbformat": 4,
 "nbformat_minor": 2
}
