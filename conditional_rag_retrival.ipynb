{
 "cells": [
  {
   "cell_type": "code",
   "execution_count": 14,
   "metadata": {},
   "outputs": [
    {
     "name": "stdout",
     "output_type": "stream",
     "text": [
      "The autoreload extension is already loaded. To reload it, use:\n",
      "  %reload_ext autoreload\n",
      "weaviate client connected: True\n"
     ]
    }
   ],
   "source": [
    "%load_ext autoreload\n",
    "%autoreload 2\n",
    "\n",
    "from dotenv import load_dotenv\n",
    "load_dotenv()\n",
    "import rag_helpers as rh\n",
    "\n",
    "ctx = rh.get_rag_helper_context(debug=True)"
   ]
  },
  {
   "cell_type": "code",
   "execution_count": 15,
   "metadata": {},
   "outputs": [
    {
     "name": "stdout",
     "output_type": "stream",
     "text": [
      "query: Hello, I have a question about my Tesla\n",
      "structured_response: {\n",
      "  \"rag_recommended\": false,\n",
      "  \"confidence_level\": \"low\",\n",
      "  \"retrieval_rationale\": \"The query is too vague and does not specify a particular aspect of the Tesla vehicle that could be addressed by the owner's manual.\",\n",
      "  \"recommended_action\": \"use_general_knowledge\"\n",
      "}\n",
      "False\n"
     ]
    }
   ],
   "source": [
    "print(ctx.evaluate_query(\"Hello, I have a question about my Tesla\"))"
   ]
  },
  {
   "cell_type": "code",
   "execution_count": 16,
   "metadata": {},
   "outputs": [
    {
     "name": "stdout",
     "output_type": "stream",
     "text": [
      "query: What does a green light means on my Tesla charging port?\n",
      "structured_response: {\n",
      "  \"rag_recommended\": true,\n",
      "  \"confidence_level\": \"high\",\n",
      "  \"retrieval_rationale\": \"The query is specific to vehicle operation and relates directly to the charging system, which is likely covered in the owner's manual.\",\n",
      "  \"recommended_action\": \"retrieve_manual_data\"\n",
      "}\n",
      "True\n"
     ]
    }
   ],
   "source": [
    "print(ctx.evaluate_query(\"What does a green light means on my Tesla charging port?\"))"
   ]
  },
  {
   "cell_type": "code",
   "execution_count": 17,
   "metadata": {},
   "outputs": [
    {
     "name": "stdout",
     "output_type": "stream",
     "text": [
      "query: What does a blinking amber means on my Tesla charging port?\n",
      "structured_response: {\n",
      "  \"rag_recommended\": true,\n",
      "  \"confidence_level\": \"high\",\n",
      "  \"retrieval_rationale\": \"The query is specific to a vehicle feature (charging port indicator) and likely covered in the owner's manual.\",\n",
      "  \"recommended_action\": \"retrieve_manual_data\"\n",
      "}\n",
      "True\n"
     ]
    }
   ],
   "source": [
    "print(ctx.evaluate_query(\"What does a blinking amber means on my Tesla charging port?\"))"
   ]
  },
  {
   "cell_type": "code",
   "execution_count": 18,
   "metadata": {},
   "outputs": [
    {
     "name": "stdout",
     "output_type": "stream",
     "text": [
      "query: What does a blinking amber means on my Tesla charging port?\n",
      "structured_response: {\n",
      "  \"rag_recommended\": true,\n",
      "  \"confidence_level\": \"high\",\n",
      "  \"retrieval_rationale\": \"The query is specific to a vehicle feature related to charging, which is likely covered in the owner's manual.\",\n",
      "  \"recommended_action\": \"retrieve_manual_data\"\n",
      "}\n",
      "will issue a RAG based response\n",
      "prompt: Answer the question using ONLY the information provided in the context below. \n",
      "Do not add any general knowledge or information not contained in the context.\"\n",
      "\n",
      "Context:\n",
      "Charging Instructions\n",
      "\n",
      "GREEN, BLINKING: Charging is in progress. As Cybertruck approaches a full charge, the frequency of the blinking slows.\n",
      "\n",
      "GREEN, SOLID: Charging is complete.\n",
      "\n",
      "AMBER, BLINKING: Cybertruck is charging at a reduced current because the connector is not fully plugged in.\n",
      "\n",
      "AMBER, SOLID: Cybertruck is not charging because the connector is not fully plugged in. Realign the connector to the charge port and insert fully.\n",
      "\n",
      "RED: A fault is detected and charging has stopped. Check the touchscreen for an alert. In some cases, an alert can be easily cleared by unplugging the charge cable, returning it to the charger, then trying again. In other cases (such as a tripped fuse or a faulty charger), you may need to check the power source. If the red light persists, try using a different charger.\n",
      "\n",
      "The charge port door closes automatically shortly after you remove the charge cable.\n",
      "\n",
      "You can also automatically stop charging from a specified time by creating a charge schedule. For more information, see Create a Schedule on page 181.\n",
      "\n",
      "---\n",
      "\n",
      "Charge Port Light\n",
      "\n",
      "Above the charge port, the charge port light shows charging status. The charge port light turns off after a short period of time if the vehicle is locked (for example, if you walk up to the vehicle after it has been charging for a while).\n",
      "\n",
      "After you insert a charge cable into Cybertruck, wait a few seconds and confirm that the charge port light begins blinking green and that your vehicle is charging. If the light is amber or red, troubleshoot the issue before you leave to ensure a successful charging session.\n",
      "\n",
      "WHITE: The charge port door is open. Cybertruck is ready to charge and the connector is not inserted, or the charge port latch is unlocked and the connector is ready to be removed.\n",
      "\n",
      "BLUE, BLINKING: Cybertruck is communicating with the charger but has not started charging or providing power yet (such as when your vehicle is preparing to charge, or when your vehicle is preparing to provide power from the high voltage Battery).\n",
      "\n",
      "BLUE: The charger is connected, but Cybertruck is not charging (such as when scheduled charging is active).\n",
      "\n",
      "PURPLE, BLINKING: Cybertruck is providing power from the high voltage Battery. The frequency of blinking corresponds to the amount of power that Cybertruck is providing (more frequent blinks correspond to more power being provided). For more information, see Powershare Home Backup on page 185.\n",
      "\n",
      "Charging and Energy Consumption | 177\n",
      "---\n",
      "\n",
      "---\n",
      "\n",
      "Fully insert charge cable or check for obstruction\n",
      "\n",
      "**What this alert means:**\n",
      "\n",
      "The charge port latch is unable to latch the charge cable in the charge port inlet. If the latch is not engaged, AC charging (for example, charging with a Mobile Connector or Wall Connector) will be limited to 16A and DC Fast Charging / Supercharging will be unavailable.\n",
      "\n",
      "The charge port light will pulse amber if this alert appears during AC charging and will be solid amber if this alert appears when attempting to DC Fast Charge / Supercharge.\n",
      "\n",
      "This alert is usually specific to external charging equipment and power sources and does not typically indicate an issue with your vehicle that can be resolved by scheduling service.\n",
      "\n",
      "**What to do:**\n",
      "\n",
      "Try re-inserting the charge cable fully into the charge port inlet.\n",
      "\n",
      "If your vehicle begins charging and the charge port light pulses green, the charge cable may not have been fully inserted before. AC charging should no longer be limited, and DC Fast Charging / Supercharging should be available.\n",
      "\n",
      "If charging is still limited or the vehicle will not charge at all, inspect the charge port inlet and the charge cable connector for any obstructions, such as debris, moisture, and/or foreign objects. Make sure any charge port inlet obstruction has been removed and any moisture has been allowed to dry, then try re-inserting the cable into the charge port.\n",
      "\n",
      "If charging is still limited or the vehicle will not charge at all, make sure the charge port manual release has not been actuated. For more information on using the charge port manual release, see Manually Releasing Charge Cable on page 179.\n",
      "\n",
      "You can also try charging your vehicle using a Tesla Supercharger or Destination Charging location, all of which can be located through the map on your vehicle's touchscreen display. See Maps and Navigation on page 163 for more details.\n",
      "\n",
      "For more information on troubleshooting Mobile Connector or Wall Connector status lights, refer to the product's Owner's Manual at Charging & Adapter Product Guides.\n",
      "\n",
      "For more information on charging, see Charging Instructions on page 176.\n",
      "\n",
      "Question: What does a blinking amber means on my Tesla charging port?\n",
      "\n",
      "Answer:\n",
      "\n",
      "\n",
      "\n",
      "A blinking amber light on your Tesla charging port means that the Cybertruck is charging at a reduced current because the connector is not fully plugged in.\n"
     ]
    }
   ],
   "source": [
    "print(ctx.chat_response(\"What does a blinking amber means on my Tesla charging port?\"))"
   ]
  },
  {
   "cell_type": "code",
   "execution_count": 19,
   "metadata": {},
   "outputs": [
    {
     "name": "stdout",
     "output_type": "stream",
     "text": [
      "query: Thanks for your help!\n",
      "structured_response: {\n",
      "  \"rag_recommended\": false,\n",
      "  \"confidence_level\": \"low\",\n",
      "  \"retrieval_rationale\": \"The query is a general expression of gratitude and does not pertain to vehicle operation or features.\",\n",
      "  \"recommended_action\": \"use_general_knowledge\"\n",
      "}\n",
      "will issue a simple response, not using RAG\n",
      "You're welcome! If you have any questions or need further assistance, feel free to ask.\n"
     ]
    }
   ],
   "source": [
    "print(ctx.chat_response(\"Thanks for your help!\"))"
   ]
  }
 ],
 "metadata": {
  "kernelspec": {
   "display_name": ".venv",
   "language": "python",
   "name": "python3"
  },
  "language_info": {
   "codemirror_mode": {
    "name": "ipython",
    "version": 3
   },
   "file_extension": ".py",
   "mimetype": "text/x-python",
   "name": "python",
   "nbconvert_exporter": "python",
   "pygments_lexer": "ipython3",
   "version": "3.11.3"
  }
 },
 "nbformat": 4,
 "nbformat_minor": 2
}
