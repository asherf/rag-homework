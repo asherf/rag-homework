{
 "cells": [
  {
   "cell_type": "code",
   "execution_count": 1,
   "metadata": {},
   "outputs": [
    {
     "name": "stdout",
     "output_type": "stream",
     "text": [
      "weaviate client connected: True\n"
     ]
    }
   ],
   "source": [
    "\n",
    "\n",
    "from dotenv import load_dotenv\n",
    "load_dotenv()\n",
    "import rag_helpers as rh\n",
    "\n",
    "ctx = rh.get_rag_helper_context()\n"
   ]
  },
  {
   "cell_type": "code",
   "execution_count": 3,
   "metadata": {},
   "outputs": [
    {
     "name": "stdout",
     "output_type": "stream",
     "text": [
      "\n",
      "Retrieved 3 contexts for query 'How do I get in touch with support?':\n",
      "\n",
      "1. Distance: 0.6159154176712036\n",
      "Text: Technical Support\n",
      "\n",
      "If you need further assistance, contact the Tesla Support team via the Contact Us page:\n",
      "\n",
      "tesla.com/support/energy/more/additional-support/contact-us\n",
      "\n",
      "Have the following information available when contacting Tesla:\n",
      "\n",
      "- Owner name\n",
      "- Best way for Tesla to contact you (name, phone number, email)\n",
      "- Powershare Gateway serial number\n",
      "- Brief description of the issue\n",
      "\n",
      "Charging and Energy Consumption                                187\n",
      "---\n",
      "\n",
      "\n",
      "\n",
      "2. Distance: 0.6914113759994507\n",
      "Text: Contacting Tesla\n",
      "\n",
      "For detailed information about your Cybertruck, go to http://www.tesla.com and log on to your Tesla account or sign up to get an account.\n",
      "\n",
      "If you have any questions or concerns about your Cybertruck, in the United States, Canada or Puerto Rico, call 1-877-79TESLA (1-877-798-3752) and in Mexico, call 1-800-228-8145.\n",
      "\n",
      "NOTE: You can also use voice commands to provide feedback to Tesla. Say \"Report\", \"Feedback\", or \"Bug report\" followed by brief comments. Cybertruck takes a snapshot of its systems, including your current location, vehicle diagnostic data, and screen captures of the touchscreen. Tesla periodically reviews these notes and uses them to continue improving Cybertruck.\n",
      "\n",
      "\n",
      "\n",
      "3. Distance: 0.6914974451065063\n",
      "Text: Contacting Tesla Roadside Assistance\n",
      "\n",
      "Tesla Roadside Assistance is available to you 24 hours a day, 365 days a year, for the duration of your warranty period. Tesla Roadside Assistance is also available to speak with roadside service professionals to answer any questions and explain the proper procedure for transporting your vehicle.\n",
      "\n",
      "When contacting Tesla Roadside Assistance, please provide:\n",
      "\n",
      "- The Vehicle Identification Number (VIN). The VIN is displayed when you touch Controls > Software. The VIN can also been seen by looking through the driver's side of the windshield.\n",
      "- Your exact location.\n",
      "- The nature of the problem.\n",
      "\n",
      "If available in your region, you can also expedite your request, by choosing the Roadside Assistance option in the Tesla mobile app.\n",
      "\n",
      "NOTE: For a detailed description of Tesla's Roadside Assistance policy, go to the support page on the Tesla web site for your region.\n",
      "\n",
      "\n"
     ]
    }
   ],
   "source": [
    "\n",
    "query = \"How do I get in touch with support?\"\n",
    "\n",
    "similar_texts = ctx.meta_query(query)\n",
    "\n",
    "print(f\"\\nRetrieved {len(similar_texts)} contexts for query '{query}':\")\n",
    "for i, res in enumerate(similar_texts, 1):\n",
    "    print(f\"\\n{i}. Distance: {res.distance}\")\n",
    "    print(f\"Text: {res.text}\\n\\n\")\n"
   ]
  },
  {
   "cell_type": "code",
   "execution_count": 4,
   "metadata": {},
   "outputs": [
    {
     "name": "stdout",
     "output_type": "stream",
     "text": [
      "prompt: Answer the question using ONLY the information provided in the context below. \n",
      "Do not add any general knowledge or information not contained in the context.\"\n",
      "\n",
      "Context:\n",
      "Technical Support\n",
      "\n",
      "If you need further assistance, contact the Tesla Support team via the Contact Us page:\n",
      "\n",
      "tesla.com/support/energy/more/additional-support/contact-us\n",
      "\n",
      "Have the following information available when contacting Tesla:\n",
      "\n",
      "- Owner name\n",
      "- Best way for Tesla to contact you (name, phone number, email)\n",
      "- Powershare Gateway serial number\n",
      "- Brief description of the issue\n",
      "\n",
      "Charging and Energy Consumption                                187\n",
      "---\n",
      "\n",
      "---\n",
      "\n",
      "Contacting Tesla\n",
      "\n",
      "For detailed information about your Cybertruck, go to http://www.tesla.com and log on to your Tesla account or sign up to get an account.\n",
      "\n",
      "If you have any questions or concerns about your Cybertruck, in the United States, Canada or Puerto Rico, call 1-877-79TESLA (1-877-798-3752) and in Mexico, call 1-800-228-8145.\n",
      "\n",
      "NOTE: You can also use voice commands to provide feedback to Tesla. Say \"Report\", \"Feedback\", or \"Bug report\" followed by brief comments. Cybertruck takes a snapshot of its systems, including your current location, vehicle diagnostic data, and screen captures of the touchscreen. Tesla periodically reviews these notes and uses them to continue improving Cybertruck.\n",
      "\n",
      "---\n",
      "\n",
      "Contacting Tesla Roadside Assistance\n",
      "\n",
      "Tesla Roadside Assistance is available to you 24 hours a day, 365 days a year, for the duration of your warranty period. Tesla Roadside Assistance is also available to speak with roadside service professionals to answer any questions and explain the proper procedure for transporting your vehicle.\n",
      "\n",
      "When contacting Tesla Roadside Assistance, please provide:\n",
      "\n",
      "- The Vehicle Identification Number (VIN). The VIN is displayed when you touch Controls > Software. The VIN can also been seen by looking through the driver's side of the windshield.\n",
      "- Your exact location.\n",
      "- The nature of the problem.\n",
      "\n",
      "If available in your region, you can also expedite your request, by choosing the Roadside Assistance option in the Tesla mobile app.\n",
      "\n",
      "NOTE: For a detailed description of Tesla's Roadside Assistance policy, go to the support page on the Tesla web site for your region.\n",
      "\n",
      "Question: How do I get in touch with support?\n",
      "\n",
      "Answer:\n",
      "\n",
      "\n",
      "\n",
      "----------------------------------\n",
      "\n",
      "\n",
      "Question: How do I get in touch with support?\n",
      "\n",
      "Answer: To get in touch with support, contact the Tesla Support team via the Contact Us page at tesla.com/support/energy/more/additional-support/contact-us.\n"
     ]
    }
   ],
   "source": [
    "answer = ctx.chat_response(query)\n",
    "print(\"----------------------------------\\n\\n\")\n",
    "print(f\"Question: {query}\\n\\nAnswer: {answer}\")"
   ]
  }
 ],
 "metadata": {
  "kernelspec": {
   "display_name": ".venv",
   "language": "python",
   "name": "python3"
  },
  "language_info": {
   "codemirror_mode": {
    "name": "ipython",
    "version": 3
   },
   "file_extension": ".py",
   "mimetype": "text/x-python",
   "name": "python",
   "nbconvert_exporter": "python",
   "pygments_lexer": "ipython3",
   "version": "3.11.3"
  }
 },
 "nbformat": 4,
 "nbformat_minor": 2
}
