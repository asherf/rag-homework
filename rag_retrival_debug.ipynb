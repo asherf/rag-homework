{
 "cells": [
  {
   "cell_type": "code",
   "execution_count": 1,
   "metadata": {},
   "outputs": [
    {
     "name": "stdout",
     "output_type": "stream",
     "text": [
      "weaviate client connected: True\n"
     ]
    }
   ],
   "source": [
    "%load_ext autoreload\n",
    "%autoreload 2\n",
    "\n",
    "from dotenv import load_dotenv\n",
    "load_dotenv()\n",
    "import rag_helpers as rh\n",
    "\n",
    "ctx = rh.get_rag_helper_context()"
   ]
  },
  {
   "cell_type": "code",
   "execution_count": 6,
   "metadata": {},
   "outputs": [
    {
     "name": "stdout",
     "output_type": "stream",
     "text": [
      "```json\n",
      "{\n",
      "  \"rag_recommended\": false,\n",
      "  \"confidence_level\": \"low\",\n",
      "  \"retrieval_rationale\": \"The query is too vague and does not specify a particular aspect of the Tesla vehicle.\",\n",
      "  \"recommended_action\": \"use_general_knowledge\"\n",
      "}\n",
      "```\n"
     ]
    }
   ],
   "source": [
    "print(ctx.evaluate_query(\"Hello, I have a question about my Tesla\"))"
   ]
  },
  {
   "cell_type": "code",
   "execution_count": 7,
   "metadata": {},
   "outputs": [
    {
     "name": "stdout",
     "output_type": "stream",
     "text": [
      "```json\n",
      "{\n",
      "  \"rag_recommended\": true,\n",
      "  \"confidence_level\": \"high\",\n",
      "  \"retrieval_rationale\": \"The query is specific to vehicle operation and charging indicators, which are typically covered in the owner's manual.\",\n",
      "  \"recommended_action\": \"retrieve_manual_data\"\n",
      "}\n",
      "```\n"
     ]
    }
   ],
   "source": [
    "print(ctx.evaluate_query(\"What does a green light means on my Tesla charging port?\"))"
   ]
  },
  {
   "cell_type": "code",
   "execution_count": 8,
   "metadata": {},
   "outputs": [
    {
     "name": "stdout",
     "output_type": "stream",
     "text": [
      "```json\n",
      "{\n",
      "  \"rag_recommended\": true,\n",
      "  \"confidence_level\": \"high\",\n",
      "  \"retrieval_rationale\": \"The query is specific to a vehicle feature related to charging, which is likely covered in the owner's manual.\",\n",
      "  \"recommended_action\": \"retrieve_manual_data\"\n",
      "}\n",
      "```\n"
     ]
    }
   ],
   "source": [
    "print(ctx.evaluate_query(\"What does a blinking amber means on my Tesla charging port?\"))"
   ]
  }
 ],
 "metadata": {
  "kernelspec": {
   "display_name": ".venv",
   "language": "python",
   "name": "python3"
  },
  "language_info": {
   "codemirror_mode": {
    "name": "ipython",
    "version": 3
   },
   "file_extension": ".py",
   "mimetype": "text/x-python",
   "name": "python",
   "nbconvert_exporter": "python",
   "pygments_lexer": "ipython3",
   "version": "3.11.3"
  }
 },
 "nbformat": 4,
 "nbformat_minor": 2
}
