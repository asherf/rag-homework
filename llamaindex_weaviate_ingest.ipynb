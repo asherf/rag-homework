{
 "cells": [
  {
   "cell_type": "code",
   "execution_count": 1,
   "metadata": {},
   "outputs": [
    {
     "name": "stdout",
     "output_type": "stream",
     "text": [
      "weaviate client connected: True\n"
     ]
    }
   ],
   "source": [
    "from dotenv import load_dotenv\n",
    "load_dotenv()\n",
    "import rag_helpers as rh\n",
    "\n",
    "\n",
    "client = rh.get_weaviate_client()"
   ]
  },
  {
   "cell_type": "code",
   "execution_count": 3,
   "metadata": {},
   "outputs": [
    {
     "name": "stdout",
     "output_type": "stream",
     "text": [
      "embeddings vector: [-0.007724063005298376, 0.039427097886800766, -0.017061689868569374, -0.02000819891691208, 0.024540210142731667].....\n",
      "\n",
      "\n",
      "embeddings vector length: 3072\n"
     ]
    }
   ],
   "source": [
    "\n",
    "embeddings = rh.get_embedding_model().get_text_embedding(\n",
    "    \"OpenAI new Embeddings models is great.\"\n",
    ")\n",
    "\n",
    "print(f\"embeddings vector: {embeddings[:5]}.....\")\n",
    "\n",
    "print(\"\\n\")\n",
    "\n",
    "print(f\"embeddings vector length: {len(embeddings)}\")"
   ]
  },
  {
   "cell_type": "code",
   "execution_count": 14,
   "metadata": {},
   "outputs": [
    {
     "name": "stdout",
     "output_type": "stream",
     "text": [
      "Loaded 1,281 nodes from './.data/Tesla Cybertruck Owners Manual.md'\n"
     ]
    }
   ],
   "source": [
    "from llama_index.core import SimpleDirectoryReader\n",
    "from llama_index.core.node_parser import SimpleNodeParser\n",
    "\n",
    "TESLA_DOC = './.data/Tesla Cybertruck Owners Manual.md'\n",
    "docs = SimpleDirectoryReader(input_files=[TESLA_DOC]).load_data()\n",
    "\n",
    "parser = SimpleNodeParser()\n",
    "nodes = parser.get_nodes_from_documents(docs)\n",
    "print(f\"Loaded {len(nodes):,} nodes from '{TESLA_DOC}'\")"
   ]
  },
  {
   "cell_type": "code",
   "execution_count": 16,
   "metadata": {},
   "outputs": [
    {
     "name": "stdout",
     "output_type": "stream",
     "text": [
      "setup index: 82012b44-b6a2-4551-a926-d6bce1248b18 for TeslaCybertruckOwnersManual\n"
     ]
    }
   ],
   "source": [
    "from llama_index.core import VectorStoreIndex, StorageContext\n",
    "from llama_index.vector_stores.weaviate import WeaviateVectorStore\n",
    "\n",
    "vector_store = WeaviateVectorStore(weaviate_client = client, index_name=rh.COLLECTION_NAME)\n",
    "storage_context = StorageContext.from_defaults(vector_store = vector_store)\n",
    "index = VectorStoreIndex(nodes, embed_model=rh.get_embedding_model(), storage_context = storage_context)\n",
    "print(f\"setup index: {index.index_id} for {rh.COLLECTION_NAME}\")"
   ]
  },
  {
   "cell_type": "code",
   "execution_count": 17,
   "metadata": {},
   "outputs": [
    {
     "name": "stdout",
     "output_type": "stream",
     "text": [
      "To maximize your charge, you should follow these tips: slow down your driving and avoid rapid acceleration, use regenerative braking when slowing down, limit the use of resources like heating and air conditioning, precondition your vehicle using the mobile app, set a schedule for preconditioning and charging, ensure proper wheel alignment and tire pressure, install wheel covers to reduce wind resistance, remove unnecessary cargo to lighten the load, fully raise windows and close the tonneau cover, disable energy-consuming features when not needed, and keep the vehicle plugged in when idle to prevent excessive energy consumption.\n"
     ]
    }
   ],
   "source": [
    "query_engine = index.as_query_engine()\n",
    "response = query_engine.query(\"How can I maximize my charge?\")\n",
    "print(response)\n",
    "\n",
    "client.close()"
   ]
  }
 ],
 "metadata": {
  "kernelspec": {
   "display_name": ".venv",
   "language": "python",
   "name": "python3"
  },
  "language_info": {
   "codemirror_mode": {
    "name": "ipython",
    "version": 3
   },
   "file_extension": ".py",
   "mimetype": "text/x-python",
   "name": "python",
   "nbconvert_exporter": "python",
   "pygments_lexer": "ipython3",
   "version": "3.11.3"
  }
 },
 "nbformat": 4,
 "nbformat_minor": 2
}
